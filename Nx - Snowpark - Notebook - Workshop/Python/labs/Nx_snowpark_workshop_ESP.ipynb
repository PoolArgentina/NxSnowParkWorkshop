{
 "cells": [
  {
   "cell_type": "markdown",
   "id": "bb9672c2-acd0-40e2-8864-4b8cd771710f",
   "metadata": {},
   "source": [
    "<img src=\"../../images/NxLogoTransparent.png\" alt=\"Nx Icon\" width=200px align=right /> \n"
   ]
  },
  {
   "cell_type": "markdown",
   "id": "8a7a7f2a-56b4-4365-9846-f99b10b92a02",
   "metadata": {},
   "source": [
    "# Workshop: Transformaciones de Dataframes con Snowpark\n",
    "\n",
    "### Escenario: \n",
    "\n",
    "En este ejercicio, usarás la API Snowpark para examinar un conjunto de datos sin procesar y transformarlo en un DataFrame, al cual los analistas de su organización puedan explorar fácilmente.\n",
    "\n",
    "### Pasos:\n",
    "1. Instalar las librerías y configurar los parámetros de conexión.\n",
    "2. Conectarnos y crear un objeto Sesion.\n",
    "3. Examinar los datasets.\n",
    "4. Explorar los datasets y ejecutar transformaciones.\n",
    "5. (Anexo) Usar una UDF para realizar transformaciones."
   ]
  },
  {
   "cell_type": "markdown",
   "id": "c61a0d41-9738-44c8-a552-daf0d3d4bee7",
   "metadata": {},
   "source": [
    "### 1. Instalar las librerías y configurar los parámetros de conexión.\n",
    "\n",
    "\n",
    "Inicialice una variable config, los parámetros necesasrios para conectarse a su cuenta de Snowflakea.\n",
    "> **&#128221; Nota:** Actualice los valores con los datos de su cuenta free trial"
   ]
  },
  {
   "cell_type": "code",
   "execution_count": null,
   "id": "057c4da0-56ee-4b15-9f16-300fbd059239",
   "metadata": {
    "tags": []
   },
   "outputs": [],
   "source": [
    "%pip install ipython-sql"
   ]
  },
  {
   "cell_type": "code",
   "execution_count": null,
   "id": "319b3e08-6747-43b0-b865-607fe85236eb",
   "metadata": {
    "tags": []
   },
   "outputs": [],
   "source": [
    "import os\n",
    "import getpass\n",
    "from urllib.parse import quote\n",
    "\n",
    "# Load Jupyter/IPython sql magic\n",
    "%load_ext sql"
   ]
  },
  {
   "cell_type": "code",
   "execution_count": null,
   "id": "e4182c1f-9251-4d35-a09e-d871314c331b",
   "metadata": {
    "tags": []
   },
   "outputs": [],
   "source": [
    "# Gather account credentials\n",
    "sf_account   = input('Snowflake Account: ') #qz79006.us-east-2.aws\n",
    "sf_user      = input('Snowflake User: ') #WORKSHOP_USER\n",
    "sf_password      = input('Snowflake Password: ') #WORKSHOP_USER_PASSWORD\n",
    "\n",
    "# Generate default object names\n",
    "wh_name    = f\"COMPUTE_WH\"\n",
    "db_name    = f\"SNOWPARK_DEMO_DB\"\n",
    "\n",
    "print(\"\\r\\nAccount credentials gathered. Select the next code cell to continue.\")"
   ]
  },
  {
   "cell_type": "markdown",
   "id": "3b56afaa-453a-440c-876c-f49e2558f0ba",
   "metadata": {},
   "source": [
    "### 2. Conectarnos y crear un objeto Sesion.\n",
    "\n",
    "El siguiente bloque de código, creará un objeto de tipo `Session` y se conectará a tu cuenta de Snowflake.\n",
    "\n",
    "*No es necesario modificar nada. Solamente ejecuta el bloque de código.*\n",
    "> &#10071; Para Windows se requiere que se actualice el path del archivo `spp_utils_python.ipynb`."
   ]
  },
  {
   "cell_type": "code",
   "execution_count": null,
   "id": "ef47c380-7e88-4d41-99c7-4139f8683d7c",
   "metadata": {
    "tags": []
   },
   "outputs": [],
   "source": [
    "# Run utils notebook\n",
    "%run ../utils/spp_utils_python.ipynb\n",
    "\n",
    "connection_parameters = {\n",
    "    \"account\": sf_account.upper(),\n",
    "    \"user\": sf_user.upper(),\n",
    "    \"password\": sf_password\n",
    "}  \n",
    "\n",
    "session = Session.builder.configs(connection_parameters).create()"
   ]
  },
  {
   "cell_type": "markdown",
   "id": "eaf9ad77-23bb-4736-a418-025b28724bcf",
   "metadata": {
    "tags": []
   },
   "source": [
    "### 3. Examinar los Datasets.\n",
    "\n",
    "Importe las librerías `functions` y `types` para usarlas durante el workshop.\n",
    "\n",
    "Cree dos `DataFrame` a partir de las tablas `campaign_spend` y `monthly_revenue`, luego examinelas para descubrir qué tipo de información está disponible en estos Datasets.\n",
    "\n",
    "*No necesitas editar nada en la siguiente celda. Simplemente ejecútalo.*"
   ]
  },
  {
   "cell_type": "code",
   "execution_count": null,
   "id": "44ae920a-8b39-45fe-8536-fc1a2a33cebe",
   "metadata": {
    "tags": []
   },
   "outputs": [],
   "source": [
    "# Import Snowpark functions and types\n",
    "from snowflake.snowpark.functions import *\n",
    "from snowflake.snowpark.types import *\n",
    "\n",
    "# Create a DataFrame for the table \n",
    "snow_df_campaing_spend = session.table('SNOWPARK_DEMO_DB.SNOWPARK_DEMO_SCHEMA.CAMPAIGN_SPEND')\n",
    "snow_df_revenue = session.table('SNOWPARK_DEMO_DB.SNOWPARK_DEMO_SCHEMA.MONTHLY_REVENUE')\n",
    "\n",
    "print('\\nTable CAMPAIGN_SPEND')\n",
    "for field in snow_df_campaing_spend.schema.fields:\n",
    "    print(field)\n",
    "\n",
    "print('\\nTable MONTHLY_REVENUE')\n",
    "for field in snow_df_revenue.schema.fields:\n",
    "    print(field)"
   ]
  },
  {
   "cell_type": "markdown",
   "id": "638ebb0e-0711-4d28-bb98-52abcc6b69a1",
   "metadata": {},
   "source": [
    "### 4. Explorar los datasets y ejecutar transformaciones.\n",
    "\n",
    "#### 4.1 Seleccione columnas del DataFrame snow_df_campaing_spend.\n",
    "\n",
    "Seleccione los siguientes campos del DataFrame `snow_df_campaing_spend` usando el método `select()` (recuerde encerrar los nombres de las columnas en una llamada al método `col()`):\n",
    "- CAMPAIGN\n",
    "- CHANNEL\n",
    "- DATE\n",
    "- TOTAL_CLICKS\n",
    "- TOTAL_COST\n",
    "- ADS_SERVED\n",
    "\n",
    "\n",
    "*TIP: ¿Quieres echar un vistazo a los resultados de tus transformaciones? Utilice la* función `show()` *para ejecutar la consulta y mostrar las primeras diez filas.*\n",
    "\n",
    "> **&#128221; Nota:** The [Snowpark API Reference (Python)](https://docs.snowflake.com/en/developer-guide/snowpark/reference/python/index.html#snowpark-api-reference-python)\n"
   ]
  },
  {
   "cell_type": "code",
   "execution_count": null,
   "id": "a1903a2c-5f6c-44fa-b288-cde663e6bc11",
   "metadata": {},
   "outputs": [],
   "source": [
    "snow_df_spend = (snow_df_campaing_spend\n",
    "        .select(\n",
    "             col(\"CAMPAIGN\")\n",
    "            ,col(\"CHANNEL\")\n",
    "            ,col(\"DATE\")\n",
    "            ,col(\"TOTAL_CLICKS\")\n",
    "            ,col(\"TOTAL_COST\")\n",
    "            ,col(\"ADS_SERVED\")\n",
    "          ))\n",
    "\n",
    "# Uncomment the following 'action' statement to execute transformations and view first ten results\n",
    "#snow_df_spend.show()"
   ]
  },
  {
   "cell_type": "markdown",
   "id": "6d333869-0466-4e79-9a2c-0fd0e1cbc42c",
   "metadata": {},
   "source": [
    "#### 4.2 Gasto total por año y mes para todos los canales.\n",
    "\n",
    "Transformemos los datos para que podamos ver el costo total por año/mes por canal usando las funciones `group_by()` y `agg()` Snowpark DataFrame."
   ]
  },
  {
   "cell_type": "code",
   "execution_count": null,
   "id": "fcc5b9d1-4ce2-471f-a502-96b983aca865",
   "metadata": {},
   "outputs": [],
   "source": [
    "from snowflake.snowpark.functions import month,year,col,sum\n",
    "\n",
    "snow_df_spend_per_channel = snow_df_spend.group_by(year('DATE'), month('DATE'),'CHANNEL').agg(sum('TOTAL_COST').as_('TOTAL_COST')).with_column_renamed('\"YEAR(DATE)\"',\"YEAR\").with_column_renamed('\"MONTH(DATE)\"',\"MONTH\").sort('YEAR','MONTH')\n",
    "\n",
    "print(\"Total Spend per Year and Month For All Channels\")\n",
    "snow_df_spend_per_channel.show()"
   ]
  },
  {
   "cell_type": "markdown",
   "id": "d683aa41-9632-4d03-932a-84352f72ecce",
   "metadata": {},
   "source": [
    "#### 4.3 Gasto total en todos los canales.\n",
    "\n",
    "Esta transformación, nos permitirá joinear a la tabla de ingresos de modo que tengamos nuestras características de entrada y la variable objetivo en una sola tabla para el entrenamiento del modelo."
   ]
  },
  {
   "cell_type": "code",
   "execution_count": null,
   "id": "1248adec-ad15-4838-8220-00b39d6caae1",
   "metadata": {},
   "outputs": [],
   "source": [
    "snow_df_spend_per_month = snow_df_spend_per_channel.pivot('CHANNEL',['search_engine','social_media','video','email']).sum('TOTAL_COST').sort('YEAR','MONTH')\n",
    "snow_df_spend_per_month = snow_df_spend_per_month.select(\n",
    "    col(\"YEAR\"),\n",
    "    col(\"MONTH\"),\n",
    "    col(\"'search_engine'\").as_(\"SEARCH_ENGINE\"),\n",
    "    col(\"'social_media'\").as_(\"SOCIAL_MEDIA\"),\n",
    "    col(\"'video'\").as_(\"VIDEO\"),\n",
    "    col(\"'email'\").as_(\"EMAIL\")\n",
    ")\n",
    "\n",
    "print(\"Total Spend Across All Channels\")\n",
    "\n",
    "# Uncomment the following 'action' statement to execute transformations and view first ten results\n",
    "snow_df_spend_per_month.show()"
   ]
  },
  {
   "cell_type": "markdown",
   "id": "1ed5dcfc-4fcd-4de1-802f-40974c8b46ec",
   "metadata": {},
   "source": [
    "#### 4.4 Ingresos totales por año y datos mensuales.\n",
    "\n",
    "Ahora transformemos los datos de ingresos en ingresos por año/mes usando las funciones `group_by()` y `agg()`."
   ]
  },
  {
   "cell_type": "code",
   "execution_count": null,
   "id": "bfdc73b3-6781-4b9d-9886-24e84c809ceb",
   "metadata": {},
   "outputs": [],
   "source": [
    "snow_df_revenue_per_month = snow_df_revenue.group_by('YEAR','MONTH').agg(sum('REVENUE')).sort('YEAR','MONTH').with_column_renamed('SUM(REVENUE)','REVENUE')\n",
    "\n",
    "print(\"Total Revenue per Year and Month\")\n",
    "snow_df_revenue_per_month.show()"
   ]
  },
  {
   "cell_type": "markdown",
   "id": "b654e68d-4bc2-4579-bd2c-093d56c1db9c",
   "metadata": {},
   "source": [
    "#### 4.5 Cruce el gasto total, a los ingresos totales por año y mes en todos los canales.\n",
    "\n",
    "A continuación, cruzamos estos datos de ingresos con los de gasto de campaña transformados para que nuestras entradas (es decir, costo por canal) y variable objetivo (es decir, ingresos) se puedan cargar en una sola tabla para análisis adicionales y capacitación del modelo.\n"
   ]
  },
  {
   "cell_type": "code",
   "execution_count": null,
   "id": "5e6e6034-a461-463c-ab3b-ce86958477f8",
   "metadata": {},
   "outputs": [],
   "source": [
    "snow_df_spend_and_revenue_per_month = snow_df_spend_per_month.join(snow_df_revenue_per_month, [\"YEAR\",\"MONTH\"])\n",
    "\n",
    "print(\"Total Spend and Revenue per Year and Month Across All Channels\")\n",
    "snow_df_spend_and_revenue_per_month.show()"
   ]
  },
  {
   "cell_type": "markdown",
   "id": "8163644f-120f-4419-8461-43dcd9f0ccb1",
   "metadata": {},
   "source": [
    "#### 4.6 Examine el Plan de Ejecución de la Consulta.\n",
    "\n",
    "Snowpark te permite ver la consulta del DataFrame y el plan de ejecución usando la función `explain()`."
   ]
  },
  {
   "cell_type": "code",
   "execution_count": null,
   "id": "1f34cf11-1de9-40f4-ab34-be42c41be457",
   "metadata": {},
   "outputs": [],
   "source": [
    "snow_df_spend_and_revenue_per_month.explain()"
   ]
  },
  {
   "cell_type": "markdown",
   "id": "0618ee6b-2739-4adb-ba60-7263d6c3600a",
   "metadata": {},
   "source": [
    "#### 4.7 Guardar los datos transformados.\n",
    "\n",
    "Guardaremos los datos transformados en una tabla Snowflake `SPEND_AND_REVENUE_PER_MONTH` para que pueda usarse para análisis adicionales y/o para entrenar un modelo."
   ]
  },
  {
   "cell_type": "code",
   "execution_count": null,
   "id": "5cbec101-26d3-41d2-a5ec-89ad4159422c",
   "metadata": {},
   "outputs": [],
   "source": [
    "snow_df_spend_and_revenue_per_month.write.mode('overwrite').save_as_table('SNOWPARK_DEMO_DB.SNOWPARK_DEMO_SCHEMA.SPEND_AND_REVENUE_PER_MONTH')"
   ]
  },
  {
   "cell_type": "markdown",
   "id": "4538b8c5-0f4b-48b7-bfd1-76e9c2e7dfbb",
   "metadata": {
    "tags": []
   },
   "source": [
    "### 5. Usar una UDF para realizar transformaciones.\n",
    "\n",
    "#### 5.1 Seleccione columnas del DataFrame dfSpendRevenuePerMonthUDF.\n",
    "\n",
    "Cree un DataFrame a partir de la tabla `SPEND_AND_REVENUE_PER_MONTH` y examinela para descubrir qué información está disponible en este data set.\n",
    "Seleccione los siguientes campos del DataFrame `dfSpendRevenuePerMonthUDF` usando el método `select()` (recuerde encerrar los nombres de las columnas en una llamada al método `col()`):\n",
    "\n",
    "- YEAR\n",
    "- MONTH\n",
    "- SEARCH_ENGINE\n",
    "- SOCIAL_MEDIA\n",
    "- VIDEO\n",
    "- EMAIL"
   ]
  },
  {
   "cell_type": "code",
   "execution_count": null,
   "id": "f22f94cb-a84f-4616-8c5a-1d0d4e5d73b5",
   "metadata": {
    "tags": []
   },
   "outputs": [],
   "source": [
    "tableName = 'SNOWPARK_DEMO_DB.SNOWPARK_DEMO_SCHEMA.SPEND_AND_REVENUE_PER_MONTH'\n",
    "dfSpendRevenuePerMonthUDF = session.table(tableName)\n",
    "\n",
    "dfOnTimeReporting = (dfSpendRevenuePerMonthUDF\n",
    "    .select(\n",
    "        col(\"YEAR\")\n",
    "        ,col(\"MONTH\")\n",
    "        ,col(\"SEARCH_ENGINE\")\n",
    "        ,col(\"SOCIAL_MEDIA\")\n",
    "        ,col(\"VIDEO\")\n",
    "        ,col(\"EMAIL\")\n",
    "        ))\n",
    "dfOnTimeReporting.show()"
   ]
  },
  {
   "cell_type": "markdown",
   "id": "791ca38d-b48f-4b2e-8163-fa0b23e39e79",
   "metadata": {},
   "source": [
    "#### 5.2 Usa la UDF para examinar los gastos de inversión más altos.\n",
    "\n",
    "Invoque la UDF `findTopInvestment` usando el método `call_builtin`, para verificar las inversiones de campaña más altas.\n",
    "Dar a la UDF los siguientes parámetros:\n",
    "- SEARCH_ENGINE\n",
    "- SOCIAL_MEDIA\n",
    "- VIDEO\n",
    "- EMAIL\n",
    "\n",
    "\n",
    "> **&#128221; Note:** Código de la UDL\n",
    "```\n",
    "create or replace function SNOWPARK_DEMO_DB.PUBLIC.findTopInvestment(val1 int, text1 text, val2 int, text2 text, val3 int, text3 text, val4 int, text4 text)\n",
    "returns string\n",
    "language python\n",
    "runtime_version = '3.8'\n",
    "handler = 'findTopInvestment'\n",
    "as\n",
    "$$\n",
    "def findTopInvestment(val1, text1, val2, text2, val3, text3, val4, text4):\n",
    "    values = {val1: text1, val2: text2, val3: text3, val4: text4}\n",
    "    max_val = max(values)\n",
    "    sum_val = sum(values)\n",
    "\n",
    "    porc_val = max_val / sum_val * 100\n",
    "    \n",
    "    return f\"{values[max_val]} with {porc_val} of total\"\n",
    "$$;\n",
    "```\n",
    "> &#10071; La UDF debe de ser desplegada previamente en tu cuenta.\n"
   ]
  },
  {
   "cell_type": "code",
   "execution_count": null,
   "id": "29a90b59-2699-4b9e-97f0-b750d3269b5e",
   "metadata": {
    "tags": []
   },
   "outputs": [],
   "source": [
    "dfOnTimeReporting = (dfSpendRevenuePerMonthUDF\n",
    "    .select(\n",
    "        col(\"YEAR\")\n",
    "        ,col(\"MONTH\")\n",
    "        ,col(\"SEARCH_ENGINE\")\n",
    "        ,col(\"SOCIAL_MEDIA\")\n",
    "        ,col(\"VIDEO\")\n",
    "        ,col(\"EMAIL\")\n",
    "        ,call_builtin(\n",
    "            \"SNOWPARK_DEMO_DB.PUBLIC.findTopInvestment\"\n",
    "            ,col(\"SEARCH_ENGINE\"), \"SEARCH_ENGINE\"\n",
    "            ,col(\"SOCIAL_MEDIA\"), \"SOCIAL_MEDIA\"\n",
    "            ,col(\"VIDEO\"), \"VIDEO\"\n",
    "            ,col(\"EMAIL\"), \"EMAIL\").alias(\"TOP INVESTMENT\")\n",
    "        )\n",
    ")\n",
    "\n",
    "    \n",
    "dfOnTimeReporting.show()"
   ]
  },
  {
   "cell_type": "markdown",
   "id": "36d56d2b-1336-4343-bb48-b44eca48a7fe",
   "metadata": {
    "tags": []
   },
   "source": [
    "### &#10071; `Shut Down Kernel`\n",
    "> Después de completar las actividades de esta notebook, apague la misma."
   ]
  }
 ],
 "metadata": {
  "kernelspec": {
   "display_name": "Python 3 (ipykernel)",
   "language": "python",
   "name": "python3"
  },
  "language_info": {
   "codemirror_mode": {
    "name": "ipython",
    "version": 3
   },
   "file_extension": ".py",
   "mimetype": "text/x-python",
   "name": "python",
   "nbconvert_exporter": "python",
   "pygments_lexer": "ipython3",
   "version": "3.9.6"
  }
 },
 "nbformat": 4,
 "nbformat_minor": 5
}
